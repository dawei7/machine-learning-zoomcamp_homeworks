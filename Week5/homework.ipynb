{
 "cells": [
  {
   "cell_type": "markdown",
   "metadata": {},
   "source": [
    "## Week 5\n"
   ]
  },
  {
   "cell_type": "code",
   "execution_count": 4,
   "metadata": {},
   "outputs": [
    {
     "name": "stdout",
     "output_type": "stream",
     "text": [
      "pipenv, version 2023.10.3\n"
     ]
    }
   ],
   "source": [
    "# Question 1\n",
    "!pipenv --version # Answer: pipenv, version 2023.10.3"
   ]
  },
  {
   "cell_type": "code",
   "execution_count": 6,
   "metadata": {},
   "outputs": [
    {
     "name": "stdout",
     "output_type": "stream",
     "text": [
      "Installing scikit-learn==1.3.1...\n",
      "Resolving scikit-learn==1.3.1...\n",
      "[    ] Installing...\n",
      "Installation Succeeded\n",
      "[    ] Installing scikit-learn...\n",
      "[    ] Installing scikit-learn...\n",
      "\n",
      "Installing dependencies from Pipfile.lock (7b0cbb)...\n",
      "To activate this project's virtualenv, run pipenv shell.\n",
      "Alternatively, run a command inside the virtualenv with pipenv run.\n"
     ]
    },
    {
     "name": "stderr",
     "output_type": "stream",
     "text": [
      "Courtesy Notice: Pipenv found itself running within a virtual environment, so it will automatically use that environment, instead of creating its own for any project. You can set PIPENV_IGNORE_VIRTUALENVS=1 to force pipenv to ignore that environment and create its own instead. You can set PIPENV_VERBOSITY=-1 to suppress this warning.\n"
     ]
    }
   ],
   "source": [
    "# Question 2\n",
    "!pipenv install scikit-learn==1.3.1 \n",
    "# Answer: \"sha256:0c275a06c5190c5ce00af0acbb61c06374087949f643ef32d355ece12c4db043\""
   ]
  },
  {
   "cell_type": "code",
   "execution_count": 2,
   "metadata": {},
   "outputs": [
    {
     "name": "stdout",
     "output_type": "stream",
     "text": [
      "0.9019309332297606\n"
     ]
    }
   ],
   "source": [
    "# Question 3\n",
    "import pickle\n",
    "\n",
    "# 1. Load the models using Pickle.\n",
    "with open(\"dv.bin\", \"rb\") as file:\n",
    "    dv = pickle.load(file)\n",
    "\n",
    "with open(\"model1.bin\", \"rb\") as file:\n",
    "    model = pickle.load(file)\n",
    "\n",
    "# 2. Vectorize the client's data.\n",
    "client_data = {\"job\": \"retired\", \"duration\": 445, \"poutcome\": \"success\"}\n",
    "X_client = dv.transform([client_data])\n",
    "\n",
    "# 3. Predict the probability using the model.\n",
    "probability = model.predict_proba(X_client)[0, 1]\n",
    "print(probability)  # Answer: 0.902"
   ]
  },
  {
   "cell_type": "code",
   "execution_count": 9,
   "metadata": {},
   "outputs": [
    {
     "name": "stdout",
     "output_type": "stream",
     "text": [
      "0.13968947052356817\n"
     ]
    }
   ],
   "source": [
    "# Question 4\n",
    "import requests\n",
    "\n",
    "url = \"http://127.0.0.1:5000/predict\"\n",
    "client = {\"job\": \"unknown\", \"duration\": 270, \"poutcome\": \"failure\"}\n",
    "\n",
    "response = requests.post(url, json=client)\n",
    "result = response.json()\n",
    "print(result[\"probability\"])  # Answer: 0.140"
   ]
  },
  {
   "cell_type": "code",
   "execution_count": 14,
   "metadata": {},
   "outputs": [
    {
     "name": "stdout",
     "output_type": "stream",
     "text": [
      "3.10.12-slim: Pulling from svizor/zoomcamp-model\n",
      "Digest: sha256:e8441100b9d8da56344f50c673eb2daded3c61ce9565e45c3592c02f34fb3149\n",
      "Status: Image is up to date for svizor/zoomcamp-model:3.10.12-slim\n",
      "docker.io/svizor/zoomcamp-model:3.10.12-slim\n"
     ]
    },
    {
     "name": "stderr",
     "output_type": "stream",
     "text": [
      "\n",
      "What's Next?\n",
      "  View summary of image vulnerabilities and recommendations → docker scout quickview svizor/zoomcamp-model:3.10.12-slim\n"
     ]
    },
    {
     "name": "stdout",
     "output_type": "stream",
     "text": [
      "svizor/zoomcamp-model   3.10.12-slim   08266c8f0c4b   5 days ago   147MB\n"
     ]
    }
   ],
   "source": [
    "# Question 5\n",
    "!docker pull svizor/zoomcamp-model:3.10.12-slim\n",
    "!docker images | findstr \"svizor/zoomcamp-model\" # Answer: 147MB"
   ]
  },
  {
   "cell_type": "code",
   "execution_count": 5,
   "metadata": {},
   "outputs": [
    {
     "data": {
      "text/plain": [
       "{'probability': 0.726936946355423}"
      ]
     },
     "execution_count": 5,
     "metadata": {},
     "output_type": "execute_result"
    }
   ],
   "source": [
    "# Question 6\n",
    "\n",
    "import requests\n",
    "\n",
    "url = \"http://127.0.0.1:8080/predict\"\n",
    "client = {\"job\": \"retired\", \"duration\": 445,\n",
    "          \"poutcome\": \"success\"}  # Anwser: 0.730\n",
    "requests.post(url, json=client).json()"
   ]
  },
  {
   "cell_type": "code",
   "execution_count": null,
   "metadata": {},
   "outputs": [],
   "source": []
  }
 ],
 "metadata": {
  "kernelspec": {
   "display_name": "Week5-RHB42Ozu",
   "language": "python",
   "name": "python3"
  },
  "language_info": {
   "codemirror_mode": {
    "name": "ipython",
    "version": 3
   },
   "file_extension": ".py",
   "mimetype": "text/x-python",
   "name": "python",
   "nbconvert_exporter": "python",
   "pygments_lexer": "ipython3",
   "version": "3.11.5"
  }
 },
 "nbformat": 4,
 "nbformat_minor": 2
}
